{
 "cells": [
  {
   "cell_type": "markdown",
   "metadata": {},
   "source": [
    "# Getting Started with Twilio and Raspberry pi for  SMS Notification "
   ]
  },
  {
   "cell_type": "markdown",
   "metadata": {},
   "source": [
    "## objective :"
   ]
  },
  {
   "cell_type": "markdown",
   "metadata": {},
   "source": [
    "In this we are going to Learn how to use Twilio API with Python and Raspberry to Send SMS when Event is Occured.\n",
    "Event can be When Temperature Exceeds more than Specified Value it shall send a SMS to a contact numnber."
   ]
  },
  {
   "cell_type": "markdown",
   "metadata": {},
   "source": [
    "# Step 1: Create a Account on Twilio"
   ]
  },
  {
   "cell_type": "markdown",
   "metadata": {},
   "source": [
    "Go to Twilio Website and Create a Accout."
   ]
  },
  {
   "cell_type": "markdown",
   "metadata": {},
   "source": [
    "https://www.twilio.com"
   ]
  },
  {
   "cell_type": "code",
   "execution_count": 9,
   "metadata": {
    "scrolled": false
   },
   "outputs": [
    {
     "data": {
      "text/html": [
       "<img src=\"https://res.cloudinary.com/practicaldev/image/fetch/s--I4VN8Rfx--/c_limit%2Cf_auto%2Cfl_progressive%2Cq_auto%2Cw_880/https://thepracticaldev.s3.amazonaws.com/i/3tsely1znv7u92l01647.png\" , width=600, height=200>\n"
      ],
      "text/plain": [
       "<IPython.core.display.HTML object>"
      ]
     },
     "metadata": {},
     "output_type": "display_data"
    }
   ],
   "source": [
    "%%html\n",
    "<img src=\"https://res.cloudinary.com/practicaldev/image/fetch/s--I4VN8Rfx--/c_limit%2Cf_auto%2Cfl_progressive%2Cq_auto%2Cw_880/https://thepracticaldev.s3.amazonaws.com/i/3tsely1znv7u92l01647.png\" , width=600, height=200>"
   ]
  },
  {
   "cell_type": "markdown",
   "metadata": {},
   "source": [
    "# Step 2: Get Twilo Phone Number"
   ]
  },
  {
   "cell_type": "markdown",
   "metadata": {},
   "source": [
    "After you have created a accout. go ahead and get a Twilio Phone Number and also we would require Twilio AUTH KEY and SSID go ahead and  get the Twilio Number."
   ]
  },
  {
   "cell_type": "code",
   "execution_count": 11,
   "metadata": {
    "scrolled": true
   },
   "outputs": [
    {
     "data": {
      "text/html": [
       "<img src=\"https://s3.amazonaws.com/com.twilio.prod.twilio-docs/images/Screen_Shot_2017-11-30_at_8.49.18_AM.width-800.png\" , width=600, height=600>\n"
      ],
      "text/plain": [
       "<IPython.core.display.HTML object>"
      ]
     },
     "metadata": {},
     "output_type": "display_data"
    }
   ],
   "source": [
    "%%html\n",
    "<img src=\"https://s3.amazonaws.com/com.twilio.prod.twilio-docs/images/Screen_Shot_2017-11-30_at_8.49.18_AM.width-800.png\" , width=600, height=600>"
   ]
  },
  {
   "cell_type": "markdown",
   "metadata": {},
   "source": [
    "## After you get Twilo Number you should see a screen like this"
   ]
  },
  {
   "cell_type": "code",
   "execution_count": 12,
   "metadata": {},
   "outputs": [
    {
     "data": {
      "text/html": [
       "<img src=\"https://s3.amazonaws.com/com.twilio.prod.twilio-docs/images/dashboard.width-800.png\" , width=600, height=4b00>\n"
      ],
      "text/plain": [
       "<IPython.core.display.HTML object>"
      ]
     },
     "metadata": {},
     "output_type": "display_data"
    }
   ],
   "source": [
    "%%html\n",
    "<img src=\"https://s3.amazonaws.com/com.twilio.prod.twilio-docs/images/dashboard.width-800.png\" , width=600, height=4b00>"
   ]
  },
  {
   "cell_type": "code",
   "execution_count": 13,
   "metadata": {},
   "outputs": [
    {
     "data": {
      "text/html": [
       "<img src=\"https://s3.amazonaws.com/com.twilio.prod.twilio-docs/original_images/eBMxWC5Lo1przAn0FGj6X7koCAEP02GZsl8J8-FOEhAD5Mbc6nRMfw-RItPqhcNFn5zef5yYxd.png\" , width=600, height=4b00>\n"
      ],
      "text/plain": [
       "<IPython.core.display.HTML object>"
      ]
     },
     "metadata": {},
     "output_type": "display_data"
    }
   ],
   "source": [
    "%%html\n",
    "<img src=\"https://s3.amazonaws.com/com.twilio.prod.twilio-docs/original_images/eBMxWC5Lo1przAn0FGj6X7koCAEP02GZsl8J8-FOEhAD5Mbc6nRMfw-RItPqhcNFn5zef5yYxd.png\" , width=600, height=4b00>"
   ]
  },
  {
   "cell_type": "markdown",
   "metadata": {},
   "source": [
    "# Step 3: Download Python Library for Twilio"
   ]
  },
  {
   "cell_type": "markdown",
   "metadata": {},
   "source": [
    "pip install twilio.rest\n",
    "if pip install didnt work for you go ahead to google and and read the doccumentaion on downloading TWILIO for Python 3 +"
   ]
  },
  {
   "cell_type": "markdown",
   "metadata": {},
   "source": [
    "# Step 4 : Lets Code  ........."
   ]
  },
  {
   "cell_type": "markdown",
   "metadata": {},
   "source": [
    "### Import the library "
   ]
  },
  {
   "cell_type": "code",
   "execution_count": null,
   "metadata": {},
   "outputs": [],
   "source": [
    "from twilio.rest import Client"
   ]
  },
  {
   "cell_type": "markdown",
   "metadata": {},
   "source": [
    "### Define a Function to send SMS "
   ]
  },
  {
   "cell_type": "markdown",
   "metadata": {},
   "source": [
    "Make sure to use try and except Block to Avoid Errors \n",
    "Add you SSID and AUTH Token."
   ]
  },
  {
   "cell_type": "code",
   "execution_count": null,
   "metadata": {},
   "outputs": [],
   "source": [
    "def send_sms_alert():\n",
    "\n",
    "    try:\n",
    "        # Define your body\n",
    "        my_body='Yo'\n",
    "        # define client\n",
    "        client = Client('SSID GOES HERE XXX ','AUTH TOKEN XX ')\n",
    "        client.messages.create(to='+ TO XXXX ',\n",
    "                               from_= '+TWILIO NUMBER XXX',\n",
    "                               body=my_body)\n",
    "    except:\n",
    "        print('Cannot send Sms!')"
   ]
  },
  {
   "cell_type": "markdown",
   "metadata": {},
   "source": [
    "### Putting all Together "
   ]
  },
  {
   "cell_type": "code",
   "execution_count": null,
   "metadata": {},
   "outputs": [],
   "source": [
    "from twilio.rest import Client\n",
    "\n",
    "\n",
    "def send_sms_alert():\n",
    "\n",
    "    try:\n",
    "        # Define your body\n",
    "        my_body='Yo'\n",
    "        # define client\n",
    "        client = Client('SSID GOES HERE XXX ','AUTH TOKEN XX ')\n",
    "        client.messages.create(to='+ TO XXXX ',\n",
    "                               from_= '+TWILIO NUMBER XXX',\n",
    "                               body=my_body)\n",
    "    except:\n",
    "        print('Cannot send Sms!')\n",
    "\n",
    "send_sms_alert()"
   ]
  },
  {
   "cell_type": "markdown",
   "metadata": {},
   "source": [
    "If you have Error make sure you have entered correct SSID and AUTH key.\n",
    "After that Make sure you have entered correct Phone Number \n",
    "Make sure to senter your number in to as we are suing Trial Account \n",
    "wont be able to send sms to other people as its a premuim Features."
   ]
  },
  {
   "cell_type": "markdown",
   "metadata": {},
   "source": [
    "## Congrulations You just sent a SMS using Python "
   ]
  },
  {
   "cell_type": "markdown",
   "metadata": {},
   "source": [
    "# Practical Example"
   ]
  },
  {
   "cell_type": "markdown",
   "metadata": {},
   "source": [
    "### objective:-"
   ]
  },
  {
   "cell_type": "markdown",
   "metadata": {},
   "source": [
    "Let us send an SMS when Temparature is High than Normal "
   ]
  },
  {
   "cell_type": "markdown",
   "metadata": {},
   "source": [
    "### Interfacing DHT-11/ DHT-22 Sensor with Raspberry Pi"
   ]
  },
  {
   "cell_type": "code",
   "execution_count": 14,
   "metadata": {},
   "outputs": [
    {
     "data": {
      "text/html": [
       "<img src=\"http://www.circuitbasics.com/wp-content/uploads/2015/12/How-to-Setup-the-DHT11-on-the-Raspberry-Pi-Three-pin-DHT11-Wiring-Diagram.png\" , width=600, height=300>\n"
      ],
      "text/plain": [
       "<IPython.core.display.HTML object>"
      ]
     },
     "metadata": {},
     "output_type": "display_data"
    }
   ],
   "source": [
    "%%html\n",
    "<img src=\"http://www.circuitbasics.com/wp-content/uploads/2015/12/How-to-Setup-the-DHT11-on-the-Raspberry-Pi-Three-pin-DHT11-Wiring-Diagram.png\" , width=600, height=300>"
   ]
  },
  {
   "cell_type": "code",
   "execution_count": 15,
   "metadata": {},
   "outputs": [
    {
     "data": {
      "text/html": [
       "<img src=\"http://www.circuitbasics.com/wp-content/uploads/2015/12/DHT11-Pinout-for-three-pin-and-four-pin-types-2.jpg\" , width=600, height=300>\n"
      ],
      "text/plain": [
       "<IPython.core.display.HTML object>"
      ]
     },
     "metadata": {},
     "output_type": "display_data"
    }
   ],
   "source": [
    "%%html\n",
    "<img src=\"http://www.circuitbasics.com/wp-content/uploads/2015/12/DHT11-Pinout-for-three-pin-and-four-pin-types-2.jpg\" , width=600, height=300>"
   ]
  },
  {
   "cell_type": "markdown",
   "metadata": {},
   "source": [
    "# Please follow complete Steps on how to install the Library on following link \n",
    "https://github.com/adafruit/Adafruit_Python_DHT\n"
   ]
  },
  {
   "cell_type": "markdown",
   "metadata": {},
   "source": [
    "Installation Steps: -\n",
    "\n",
    "\n",
    "Python library to read the DHT series of humidity and temperature sensors on a Raspberry Pi or Beaglebone Black.\n",
    "Designed specifically to work with the Adafruit DHT series sensors ----> https://www.adafruit.com/products/385\n",
    "Currently the library is tested with Python 2.6, 2.7, 3.3 and 3.4. It should work with Python greater than 3.4, too\n",
    "Dependencies\n",
    "\n",
    "For all platforms (Raspberry Pi and Beaglebone Black) make sure your system is able to compile and download Python extensions with pip:\n",
    "\n",
    "On Raspbian or Beaglebone Black's Debian/Ubuntu image you can ensure your system is ready by running one or two of the following sets of commands\n",
    "\n",
    "Python 2:\n",
    "sudo apt-get update\n",
    "sudo apt-get install python-pip\n",
    "sudo python -m pip install --upgrade pip setuptools wheel\n",
    "\n",
    "\n",
    "Python 3:\n",
    "sudo apt-get update\n",
    "sudo apt-get install python3-pip\n",
    "sudo python3 -m pip install --upgrade pip setuptools wheel\n",
    "\n",
    "\n",
    "Install with pip\n",
    "Use pip to install from PyPI.\n",
    "\n",
    "\n",
    "Python 2:\n",
    "sudo pip install Adafruit_DHT\n",
    "\n",
    "\n",
    "Python 3:\n",
    "sudo pip3 install Adafruit_DHT\n",
    "\n",
    "\n",
    "Compile and install from the repository\n",
    "First download the library source code from the GitHub releases page, unzipping the archive, and execute:\n",
    "Python 2:\n",
    "cd Adafruit_Python_DHT\n",
    "sudo python setup.py install\n",
    "\n",
    "\n",
    "Python 3:\n",
    "cd Adafruit_Python_DHT\n",
    "sudo python3 setup.py install\n",
    "\n",
    "\n",
    "You may also git clone the repository if you want to test an unreleased version:\n",
    "git clone https://github.com/adafruit/Adafruit_Python_DHT.git\n",
    "\n"
   ]
  },
  {
   "cell_type": "code",
   "execution_count": null,
   "metadata": {},
   "outputs": [],
   "source": [
    "import Adafruit_DHT\n",
    "from twilio.rest import Client\n",
    "\n",
    "pin = 4\n",
    "sensor = Adafruit_DHT.DHT22\n",
    "\n",
    "def main():\n",
    "\n",
    "    humidity, temperature = Adafruit_DHT.read_retry(sensor, pin)\n",
    "\n",
    "    if humidity is not None and temperature is not None:\n",
    "        print('Temp={0:0.1f}*C  Humidity={1:0.1f}%'.format(temperature, humidity))\n",
    "        if humidity >34:\n",
    "            print(\"Alert \")\n",
    "            send_sms_alert(' High Temperature Alert Warning ')\n",
    "    else:\n",
    "        print('Failed to get reading. Try again!')\n",
    "        \n",
    "def send_sms_alert(text='Python'):\n",
    "\n",
    "    try:\n",
    "        # Define your body\n",
    "        my_body = text\n",
    "        # define client\n",
    "        client = Client('SSID GOES HERE XXX ','AUTH TOKEN XX ')\n",
    "        client.messages.create(to='+ TO XXXX ',\n",
    "                               from_= '+TWILIO NUMBER XXX',\n",
    "                               body=my_body)\n",
    "    except:\n",
    "        print('Cannot send Sms!')\n",
    "\n",
    "if __name__ == \"__main__\":\n",
    "    while True:\n",
    "        main()\n",
    "      "
   ]
  },
  {
   "cell_type": "markdown",
   "metadata": {},
   "source": [
    "# Small Application where i used Twilio"
   ]
  },
  {
   "cell_type": "code",
   "execution_count": 16,
   "metadata": {
    "scrolled": true
   },
   "outputs": [
    {
     "data": {
      "image/jpeg": "[encoded data removed]",
      "text/html": [
       "\n",
       "        <iframe\n",
       "            width=\"400\"\n",
       "            height=\"300\"\n",
       "            src=\"https://www.youtube.com/embed/lrSUts2hNlw\"\n",
       "            frameborder=\"0\"\n",
       "            allowfullscreen\n",
       "        ></iframe>\n",
       "        "
      ],
      "text/plain": [
       "<IPython.lib.display.YouTubeVideo at 0x10b90d358>"
      ]
     },
     "execution_count": 16,
     "metadata": {},
     "output_type": "execute_result"
    }
   ],
   "source": [
    "from IPython.display import YouTubeVideo\n",
    "YouTubeVideo('lrSUts2hNlw')"
   ]
  },
  {
   "cell_type": "code",
   "execution_count": 19,
   "metadata": {},
   "outputs": [
    {
     "data": {
      "image/jpeg": "[encoded data removed]",
      "text/html": [
       "\n",
       "        <iframe\n",
       "            width=\"400\"\n",
       "            height=\"300\"\n",
       "            src=\"https://www.youtube.com/embed/hT4zp-mGFkE\"\n",
       "            frameborder=\"0\"\n",
       "            allowfullscreen\n",
       "        ></iframe>\n",
       "        "
      ],
      "text/plain": [
       "<IPython.lib.display.YouTubeVideo at 0x10b901780>"
      ]
     },
     "execution_count": 19,
     "metadata": {},
     "output_type": "execute_result"
    }
   ],
   "source": [
    "from IPython.display import YouTubeVideo\n",
    "YouTubeVideo('hT4zp-mGFkE')"
   ]
  }
 ],
 "metadata": {
  "kernelspec": {
   "display_name": "Python 3",
   "language": "python",
   "name": "python3"
  },
  "language_info": {
   "codemirror_mode": {
    "name": "ipython",
    "version": 3
   },
   "file_extension": ".py",
   "mimetype": "text/x-python",
   "name": "python",
   "nbconvert_exporter": "python",
   "pygments_lexer": "ipython3",
   "version": "3.7.3"
  }
 },
 "nbformat": 4,
 "nbformat_minor": 2
}
