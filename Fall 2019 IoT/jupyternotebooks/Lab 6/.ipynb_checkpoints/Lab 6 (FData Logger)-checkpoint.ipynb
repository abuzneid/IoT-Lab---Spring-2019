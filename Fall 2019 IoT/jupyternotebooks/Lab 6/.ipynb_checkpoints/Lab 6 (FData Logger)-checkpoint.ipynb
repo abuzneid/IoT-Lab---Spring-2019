{
 "cells": [
  {
   "cell_type": "markdown",
   "metadata": {},
   "source": [
    "# DATA LOGGER"
   ]
  },
  {
   "cell_type": "markdown",
   "metadata": {},
   "source": [
    "## OBJECTIVE:"
   ]
  },
  {
   "cell_type": "markdown",
   "metadata": {},
   "source": [
    "This simple data logger takes regular light measurements with an analogue LDR (Photoresistor) and stores them in a text file on your Raspberry Pi. This data logger will measure and record the light level every second, enabling you to monitor how the brightness changes over a length of time. Later we send the data to ThingSpeak cloud platform and visualize the data."
   ]
  },
  {
   "cell_type": "markdown",
   "metadata": {},
   "source": [
    "## COMPONENTS:"
   ]
  },
  {
   "cell_type": "markdown",
   "metadata": {},
   "source": [
    "1)\tRPi 3\n",
    "\n",
    "2)\tBreadboard\n",
    "\n",
    "3)\tPhotoresistor x 1\n",
    "\n",
    "4)\t1µF Capacitor\n",
    "\n",
    "5)\tConnecting Wires\n"
   ]
  },
  {
   "cell_type": "markdown",
   "metadata": {},
   "source": [
    "## Light Dependent Resistor:"
   ]
  },
  {
   "cell_type": "markdown",
   "metadata": {},
   "source": [
    "The light dependent resistor or also known as the LDR sensor is the most important piece of equipment in our circuit . Without it we wouldn’t able to detect whether it is dark or light. In the light this sensor will have a resistance of only a few hundred ohms whilst in the dark it can have a resistance of several megohms."
   ]
  },
  {
   "cell_type": "markdown",
   "metadata": {},
   "source": [
    "resistance of several megohms.\n",
    "The capacitor in our circuit is there so we’re able to measure the resistance of the LDR sensor. A capacitor essentially acts like a battery charging up whilst receiving power and then discharging when no longer receiving power. Using this in series with the LDR we can work out how much resistance the LDR is giving out thus whether it is light or dark.\n"
   ]
  },
  {
   "cell_type": "markdown",
   "metadata": {},
   "source": [
    "\n",
    "If we want to use analogue sensors with the Raspberry Pi, we would need to be able to measure the resistance of the sensor. Unlike the Arduino, the Raspberry Pi's GPIO pins are unable to measure resistance and can only sense if the voltage supplied to them is above a certain voltage (approximately 2 volts). To overcome this issue, you could use an Analogue to Digital Converter (ADC), or you could use a relatively cheap capacitor instead.\n"
   ]
  },
  {
   "cell_type": "markdown",
   "metadata": {},
   "source": [
    "## CIRCUIT DIAGRAM:"
   ]
  },
  {
   "cell_type": "code",
   "execution_count": 2,
   "metadata": {},
   "outputs": [
    {
     "data": {
      "text/html": [
       "<img src=\"photo/1.png\" , width=600, height=200>\n"
      ],
      "text/plain": [
       "<IPython.core.display.HTML object>"
      ]
     },
     "metadata": {},
     "output_type": "display_data"
    }
   ],
   "source": [
    "%%html\n",
    "<img src=\"photo/1.png\" , width=600, height=200>"
   ]
  },
  {
   "cell_type": "markdown",
   "metadata": {},
   "source": [
    "### CIRCUIT DESCRIPTION:"
   ]
  },
  {
   "cell_type": "markdown",
   "metadata": {},
   "source": [
    "1.\tBOARD PIN CONFIGURATION IS USED.\n",
    "\n",
    "2.\tOne end of LDR to 3.3v pin.\n",
    "\n",
    "3.\tOther end of LDR to pin #7.\n",
    "\n",
    "4.\tOne end of Capacitor is connected to LDR.\n",
    "\n",
    "5.\tOther end of capacitor to Ground pin.\n"
   ]
  },
  {
   "cell_type": "markdown",
   "metadata": {},
   "source": [
    "### CREATING THE PROGRAM:"
   ]
  },
  {
   "cell_type": "markdown",
   "metadata": {},
   "source": [
    "1.\tGo to TERMINAL\n",
    "\n",
    "2.\tNavigate to workspace folder (created in lab 1) by typing the command:\n",
    "\t$ cd workspace\n",
    "    \n",
    "\n",
    "3.\tOpen this folder in your file system\n",
    "\n",
    "4.\tRight click the mouse and choose new file and name it as lab3.py\n",
    "\n",
    "5.\tRight click on the file and open with IDLE3. Make it default program.\n",
    "\n",
    "6.\tType the below code and save the file.\n",
    "\n",
    "7.\tGo to terminal and run the program with the below command:\n",
    "\n",
    "$ python lab5.py\n"
   ]
  },
  {
   "cell_type": "code",
   "execution_count": null,
   "metadata": {},
   "outputs": [],
   "source": [
    "#Data logger stored on RPi\n",
    "\n",
    "import RPi.GPIO as GPIO\n",
    "import time\n",
    "import datetime\n",
    "\n",
    "ldr_pin = 7\n",
    "log_interval = 1                                          #in seconds\n",
    "  \n",
    "file_name = \"data_logger.txt\"\n",
    "open(file_name, 'w').close()\n",
    "\n",
    "GPIO.setmode(GPIO.BOARD)\n",
    "\n",
    "\n",
    "def loop():\n",
    "    while True:\n",
    "        for x in range (1, 6):\n",
    "          if x == 5:\n",
    "            ldr = recharge_time(ldr_pin)     #call recharge time method\n",
    "            print(ldr)\n",
    "            \n",
    "            data_to_write = (str(datetime.datetime.now()) + \" , \" + str(ldr))   #format data to write\n",
    "            write_to_file(data_to_write, file_name)                             #call write to file method\n",
    "        \n",
    "        time.sleep(log_interval)\n",
    "\n",
    "\n",
    "def recharge_time(ldr_pin):\n",
    "    count = 0                                   #initialize counter to zero\n",
    "  \n",
    "    GPIO.setup(ldr_pin, GPIO.OUT)               #initially set it to Output\n",
    "    GPIO.output(ldr_pin, GPIO.LOW)\n",
    "    time.sleep(0.1)\n",
    "\n",
    "    GPIO.setup(ldr_pin, GPIO.IN)              #change the pin back to input \n",
    "    \n",
    "    while (GPIO.input(ldr_pin) == GPIO.LOW): #count until the pin goes high\n",
    "        count += 1\n",
    "\n",
    "    return count\n",
    "\n",
    "\n",
    "def write_to_file(text, file): \n",
    "    f = open(file,'a')                        #open file with append option\n",
    "    f.write(text+'\\n')\n",
    "    f.close()\n",
    "\n",
    "\n",
    "if __name__ == '__main__':\n",
    "    try:\n",
    "      loop()\n",
    "    except KeyboardInterrupt:\n",
    "      GPIO.cleanup()\n"
   ]
  },
  {
   "cell_type": "markdown",
   "metadata": {},
   "source": [
    "### EXPLANATION:"
   ]
  },
  {
   "cell_type": "markdown",
   "metadata": {},
   "source": [
    "With reference to the above code:"
   ]
  },
  {
   "cell_type": "markdown",
   "metadata": {},
   "source": [
    "Run the above code and see your terminal. You can see the count printed on the console (Figure 47). It is updated every second. Count value accumulates for the time ldr pin is LOW. Higher the light intensity, lower the count value and vice versa. Open \"data_logger.txt\" which is your workspace folder. You can see data being logged with its respective timestamp (Figure 48). "
   ]
  },
  {
   "cell_type": "code",
   "execution_count": 4,
   "metadata": {},
   "outputs": [
    {
     "data": {
      "text/html": [
       "<img src=\"photo/2.png\" , width=600, height=200>\n"
      ],
      "text/plain": [
       "<IPython.core.display.HTML object>"
      ]
     },
     "metadata": {},
     "output_type": "display_data"
    }
   ],
   "source": [
    "%%html\n",
    "<img src=\"photo/2.png\" , width=600, height=200>"
   ]
  },
  {
   "cell_type": "code",
   "execution_count": null,
   "metadata": {},
   "outputs": [],
   "source": []
  }
 ],
 "metadata": {
  "kernelspec": {
   "display_name": "Python 3",
   "language": "python",
   "name": "python3"
  },
  "language_info": {
   "codemirror_mode": {
    "name": "ipython",
    "version": 3
   },
   "file_extension": ".py",
   "mimetype": "text/x-python",
   "name": "python",
   "nbconvert_exporter": "python",
   "pygments_lexer": "ipython3",
   "version": "3.7.3"
  }
 },
 "nbformat": 4,
 "nbformat_minor": 2
}
